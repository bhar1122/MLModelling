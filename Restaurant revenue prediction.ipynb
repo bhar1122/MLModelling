{
 "cells": [
  {
   "cell_type": "markdown",
   "metadata": {},
   "source": [
    "###### Case - 1: Resturant Revenue Prediction (Tab Food Investment - Kaggle Dataset)¶"
   ]
  },
  {
   "cell_type": "code",
   "execution_count": 95,
   "metadata": {},
   "outputs": [],
   "source": [
    "import pandas as pd\n",
    "import numpy as np\n",
    "import datetime\n",
    "from datetime import timedelta\n",
    "from datetime import date"
   ]
  },
  {
   "cell_type": "markdown",
   "metadata": {},
   "source": [
    "Read Files "
   ]
  },
  {
   "cell_type": "code",
   "execution_count": 96,
   "metadata": {},
   "outputs": [],
   "source": [
    "train = pd.read_csv('train.csv')\n",
    "test = pd.read_csv(\"test.csv\")"
   ]
  },
  {
   "cell_type": "code",
   "execution_count": 97,
   "metadata": {},
   "outputs": [],
   "source": [
    "train = train.drop('Id',axis = 1)\n",
    "test = test.drop('Id',axis=1)"
   ]
  },
  {
   "cell_type": "markdown",
   "metadata": {},
   "source": [
    "Exploratory Data Analysis "
   ]
  },
  {
   "cell_type": "code",
   "execution_count": 98,
   "metadata": {},
   "outputs": [
    {
     "data": {
      "text/html": [
       "<div>\n",
       "<style scoped>\n",
       "    .dataframe tbody tr th:only-of-type {\n",
       "        vertical-align: middle;\n",
       "    }\n",
       "\n",
       "    .dataframe tbody tr th {\n",
       "        vertical-align: top;\n",
       "    }\n",
       "\n",
       "    .dataframe thead th {\n",
       "        text-align: right;\n",
       "    }\n",
       "</style>\n",
       "<table border=\"1\" class=\"dataframe\">\n",
       "  <thead>\n",
       "    <tr style=\"text-align: right;\">\n",
       "      <th></th>\n",
       "      <th>OpenDate</th>\n",
       "      <th>City</th>\n",
       "      <th>CityGroup</th>\n",
       "      <th>Type</th>\n",
       "      <th>P1</th>\n",
       "      <th>P2</th>\n",
       "      <th>P3</th>\n",
       "      <th>P4</th>\n",
       "      <th>P5</th>\n",
       "      <th>P6</th>\n",
       "      <th>...</th>\n",
       "      <th>P29</th>\n",
       "      <th>P30</th>\n",
       "      <th>P31</th>\n",
       "      <th>P32</th>\n",
       "      <th>P33</th>\n",
       "      <th>P34</th>\n",
       "      <th>P35</th>\n",
       "      <th>P36</th>\n",
       "      <th>P37</th>\n",
       "      <th>revenue</th>\n",
       "    </tr>\n",
       "  </thead>\n",
       "  <tbody>\n",
       "    <tr>\n",
       "      <th>0</th>\n",
       "      <td>07/17/1999</td>\n",
       "      <td>İstanbul</td>\n",
       "      <td>Big Cities</td>\n",
       "      <td>IL</td>\n",
       "      <td>4</td>\n",
       "      <td>5.0</td>\n",
       "      <td>4.0</td>\n",
       "      <td>4.0</td>\n",
       "      <td>2</td>\n",
       "      <td>2</td>\n",
       "      <td>...</td>\n",
       "      <td>3.0</td>\n",
       "      <td>5</td>\n",
       "      <td>3</td>\n",
       "      <td>4</td>\n",
       "      <td>5</td>\n",
       "      <td>5</td>\n",
       "      <td>4</td>\n",
       "      <td>3</td>\n",
       "      <td>4</td>\n",
       "      <td>5653753</td>\n",
       "    </tr>\n",
       "    <tr>\n",
       "      <th>1</th>\n",
       "      <td>02/14/2008</td>\n",
       "      <td>Ankara</td>\n",
       "      <td>Big Cities</td>\n",
       "      <td>FC</td>\n",
       "      <td>4</td>\n",
       "      <td>5.0</td>\n",
       "      <td>4.0</td>\n",
       "      <td>4.0</td>\n",
       "      <td>1</td>\n",
       "      <td>2</td>\n",
       "      <td>...</td>\n",
       "      <td>3.0</td>\n",
       "      <td>0</td>\n",
       "      <td>0</td>\n",
       "      <td>0</td>\n",
       "      <td>0</td>\n",
       "      <td>0</td>\n",
       "      <td>0</td>\n",
       "      <td>0</td>\n",
       "      <td>0</td>\n",
       "      <td>6923131</td>\n",
       "    </tr>\n",
       "    <tr>\n",
       "      <th>2</th>\n",
       "      <td>03-09-2013</td>\n",
       "      <td>Diyarbakır</td>\n",
       "      <td>Other</td>\n",
       "      <td>IL</td>\n",
       "      <td>2</td>\n",
       "      <td>4.0</td>\n",
       "      <td>2.0</td>\n",
       "      <td>5.0</td>\n",
       "      <td>2</td>\n",
       "      <td>3</td>\n",
       "      <td>...</td>\n",
       "      <td>3.0</td>\n",
       "      <td>0</td>\n",
       "      <td>0</td>\n",
       "      <td>0</td>\n",
       "      <td>0</td>\n",
       "      <td>0</td>\n",
       "      <td>0</td>\n",
       "      <td>0</td>\n",
       "      <td>0</td>\n",
       "      <td>2055379</td>\n",
       "    </tr>\n",
       "    <tr>\n",
       "      <th>3</th>\n",
       "      <td>02-02-2012</td>\n",
       "      <td>Tokat</td>\n",
       "      <td>Other</td>\n",
       "      <td>IL</td>\n",
       "      <td>6</td>\n",
       "      <td>4.5</td>\n",
       "      <td>6.0</td>\n",
       "      <td>6.0</td>\n",
       "      <td>4</td>\n",
       "      <td>4</td>\n",
       "      <td>...</td>\n",
       "      <td>7.5</td>\n",
       "      <td>25</td>\n",
       "      <td>12</td>\n",
       "      <td>10</td>\n",
       "      <td>6</td>\n",
       "      <td>18</td>\n",
       "      <td>12</td>\n",
       "      <td>12</td>\n",
       "      <td>6</td>\n",
       "      <td>2675511</td>\n",
       "    </tr>\n",
       "    <tr>\n",
       "      <th>4</th>\n",
       "      <td>05-09-2009</td>\n",
       "      <td>Gaziantep</td>\n",
       "      <td>Other</td>\n",
       "      <td>IL</td>\n",
       "      <td>3</td>\n",
       "      <td>4.0</td>\n",
       "      <td>3.0</td>\n",
       "      <td>4.0</td>\n",
       "      <td>2</td>\n",
       "      <td>2</td>\n",
       "      <td>...</td>\n",
       "      <td>3.0</td>\n",
       "      <td>5</td>\n",
       "      <td>1</td>\n",
       "      <td>3</td>\n",
       "      <td>2</td>\n",
       "      <td>3</td>\n",
       "      <td>4</td>\n",
       "      <td>3</td>\n",
       "      <td>3</td>\n",
       "      <td>4316715</td>\n",
       "    </tr>\n",
       "  </tbody>\n",
       "</table>\n",
       "<p>5 rows × 42 columns</p>\n",
       "</div>"
      ],
      "text/plain": [
       "     OpenDate        City   CityGroup Type  P1   P2   P3   P4  P5  P6  ...  \\\n",
       "0  07/17/1999    İstanbul  Big Cities   IL   4  5.0  4.0  4.0   2   2  ...   \n",
       "1  02/14/2008      Ankara  Big Cities   FC   4  5.0  4.0  4.0   1   2  ...   \n",
       "2  03-09-2013  Diyarbakır       Other   IL   2  4.0  2.0  5.0   2   3  ...   \n",
       "3  02-02-2012       Tokat       Other   IL   6  4.5  6.0  6.0   4   4  ...   \n",
       "4  05-09-2009   Gaziantep       Other   IL   3  4.0  3.0  4.0   2   2  ...   \n",
       "\n",
       "   P29  P30  P31  P32  P33  P34  P35  P36  P37  revenue  \n",
       "0  3.0    5    3    4    5    5    4    3    4  5653753  \n",
       "1  3.0    0    0    0    0    0    0    0    0  6923131  \n",
       "2  3.0    0    0    0    0    0    0    0    0  2055379  \n",
       "3  7.5   25   12   10    6   18   12   12    6  2675511  \n",
       "4  3.0    5    1    3    2    3    4    3    3  4316715  \n",
       "\n",
       "[5 rows x 42 columns]"
      ]
     },
     "execution_count": 98,
     "metadata": {},
     "output_type": "execute_result"
    }
   ],
   "source": [
    "train.head()"
   ]
  },
  {
   "cell_type": "code",
   "execution_count": 99,
   "metadata": {},
   "outputs": [
    {
     "data": {
      "text/html": [
       "<div>\n",
       "<style scoped>\n",
       "    .dataframe tbody tr th:only-of-type {\n",
       "        vertical-align: middle;\n",
       "    }\n",
       "\n",
       "    .dataframe tbody tr th {\n",
       "        vertical-align: top;\n",
       "    }\n",
       "\n",
       "    .dataframe thead th {\n",
       "        text-align: right;\n",
       "    }\n",
       "</style>\n",
       "<table border=\"1\" class=\"dataframe\">\n",
       "  <thead>\n",
       "    <tr style=\"text-align: right;\">\n",
       "      <th></th>\n",
       "      <th>P1</th>\n",
       "      <th>P2</th>\n",
       "      <th>P3</th>\n",
       "      <th>P4</th>\n",
       "      <th>P5</th>\n",
       "      <th>P6</th>\n",
       "      <th>P7</th>\n",
       "      <th>P8</th>\n",
       "      <th>P9</th>\n",
       "      <th>P10</th>\n",
       "      <th>...</th>\n",
       "      <th>P29</th>\n",
       "      <th>P30</th>\n",
       "      <th>P31</th>\n",
       "      <th>P32</th>\n",
       "      <th>P33</th>\n",
       "      <th>P34</th>\n",
       "      <th>P35</th>\n",
       "      <th>P36</th>\n",
       "      <th>P37</th>\n",
       "      <th>revenue</th>\n",
       "    </tr>\n",
       "  </thead>\n",
       "  <tbody>\n",
       "    <tr>\n",
       "      <th>count</th>\n",
       "      <td>137.000000</td>\n",
       "      <td>137.000000</td>\n",
       "      <td>137.000000</td>\n",
       "      <td>137.000000</td>\n",
       "      <td>137.000000</td>\n",
       "      <td>137.000000</td>\n",
       "      <td>137.000000</td>\n",
       "      <td>137.000000</td>\n",
       "      <td>137.000000</td>\n",
       "      <td>137.000000</td>\n",
       "      <td>...</td>\n",
       "      <td>137.000000</td>\n",
       "      <td>137.000000</td>\n",
       "      <td>137.000000</td>\n",
       "      <td>137.000000</td>\n",
       "      <td>137.000000</td>\n",
       "      <td>137.000000</td>\n",
       "      <td>137.000000</td>\n",
       "      <td>137.000000</td>\n",
       "      <td>137.000000</td>\n",
       "      <td>1.370000e+02</td>\n",
       "    </tr>\n",
       "    <tr>\n",
       "      <th>mean</th>\n",
       "      <td>4.014599</td>\n",
       "      <td>4.408759</td>\n",
       "      <td>4.317518</td>\n",
       "      <td>4.372263</td>\n",
       "      <td>2.007299</td>\n",
       "      <td>3.357664</td>\n",
       "      <td>5.423358</td>\n",
       "      <td>5.153285</td>\n",
       "      <td>5.445255</td>\n",
       "      <td>5.489051</td>\n",
       "      <td>...</td>\n",
       "      <td>3.135036</td>\n",
       "      <td>2.729927</td>\n",
       "      <td>1.941606</td>\n",
       "      <td>2.525547</td>\n",
       "      <td>1.138686</td>\n",
       "      <td>2.489051</td>\n",
       "      <td>2.029197</td>\n",
       "      <td>2.211679</td>\n",
       "      <td>1.116788</td>\n",
       "      <td>4.453533e+06</td>\n",
       "    </tr>\n",
       "    <tr>\n",
       "      <th>std</th>\n",
       "      <td>2.910391</td>\n",
       "      <td>1.514900</td>\n",
       "      <td>1.032337</td>\n",
       "      <td>1.016462</td>\n",
       "      <td>1.209620</td>\n",
       "      <td>2.134235</td>\n",
       "      <td>2.296809</td>\n",
       "      <td>1.858567</td>\n",
       "      <td>1.834793</td>\n",
       "      <td>1.847561</td>\n",
       "      <td>...</td>\n",
       "      <td>1.680887</td>\n",
       "      <td>5.536647</td>\n",
       "      <td>3.512093</td>\n",
       "      <td>5.230117</td>\n",
       "      <td>1.698540</td>\n",
       "      <td>5.165093</td>\n",
       "      <td>3.436272</td>\n",
       "      <td>4.168211</td>\n",
       "      <td>1.790768</td>\n",
       "      <td>2.576072e+06</td>\n",
       "    </tr>\n",
       "    <tr>\n",
       "      <th>min</th>\n",
       "      <td>1.000000</td>\n",
       "      <td>1.000000</td>\n",
       "      <td>0.000000</td>\n",
       "      <td>3.000000</td>\n",
       "      <td>1.000000</td>\n",
       "      <td>1.000000</td>\n",
       "      <td>1.000000</td>\n",
       "      <td>1.000000</td>\n",
       "      <td>4.000000</td>\n",
       "      <td>4.000000</td>\n",
       "      <td>...</td>\n",
       "      <td>0.000000</td>\n",
       "      <td>0.000000</td>\n",
       "      <td>0.000000</td>\n",
       "      <td>0.000000</td>\n",
       "      <td>0.000000</td>\n",
       "      <td>0.000000</td>\n",
       "      <td>0.000000</td>\n",
       "      <td>0.000000</td>\n",
       "      <td>0.000000</td>\n",
       "      <td>1.149870e+06</td>\n",
       "    </tr>\n",
       "    <tr>\n",
       "      <th>25%</th>\n",
       "      <td>2.000000</td>\n",
       "      <td>4.000000</td>\n",
       "      <td>4.000000</td>\n",
       "      <td>4.000000</td>\n",
       "      <td>1.000000</td>\n",
       "      <td>2.000000</td>\n",
       "      <td>5.000000</td>\n",
       "      <td>4.000000</td>\n",
       "      <td>4.000000</td>\n",
       "      <td>5.000000</td>\n",
       "      <td>...</td>\n",
       "      <td>2.500000</td>\n",
       "      <td>0.000000</td>\n",
       "      <td>0.000000</td>\n",
       "      <td>0.000000</td>\n",
       "      <td>0.000000</td>\n",
       "      <td>0.000000</td>\n",
       "      <td>0.000000</td>\n",
       "      <td>0.000000</td>\n",
       "      <td>0.000000</td>\n",
       "      <td>2.999068e+06</td>\n",
       "    </tr>\n",
       "    <tr>\n",
       "      <th>50%</th>\n",
       "      <td>3.000000</td>\n",
       "      <td>5.000000</td>\n",
       "      <td>4.000000</td>\n",
       "      <td>4.000000</td>\n",
       "      <td>2.000000</td>\n",
       "      <td>3.000000</td>\n",
       "      <td>5.000000</td>\n",
       "      <td>5.000000</td>\n",
       "      <td>5.000000</td>\n",
       "      <td>5.000000</td>\n",
       "      <td>...</td>\n",
       "      <td>3.000000</td>\n",
       "      <td>0.000000</td>\n",
       "      <td>0.000000</td>\n",
       "      <td>0.000000</td>\n",
       "      <td>0.000000</td>\n",
       "      <td>0.000000</td>\n",
       "      <td>0.000000</td>\n",
       "      <td>0.000000</td>\n",
       "      <td>0.000000</td>\n",
       "      <td>3.939804e+06</td>\n",
       "    </tr>\n",
       "    <tr>\n",
       "      <th>75%</th>\n",
       "      <td>4.000000</td>\n",
       "      <td>5.000000</td>\n",
       "      <td>5.000000</td>\n",
       "      <td>5.000000</td>\n",
       "      <td>2.000000</td>\n",
       "      <td>4.000000</td>\n",
       "      <td>5.000000</td>\n",
       "      <td>5.000000</td>\n",
       "      <td>5.000000</td>\n",
       "      <td>5.000000</td>\n",
       "      <td>...</td>\n",
       "      <td>3.000000</td>\n",
       "      <td>4.000000</td>\n",
       "      <td>3.000000</td>\n",
       "      <td>3.000000</td>\n",
       "      <td>2.000000</td>\n",
       "      <td>3.000000</td>\n",
       "      <td>4.000000</td>\n",
       "      <td>3.000000</td>\n",
       "      <td>2.000000</td>\n",
       "      <td>5.166635e+06</td>\n",
       "    </tr>\n",
       "    <tr>\n",
       "      <th>max</th>\n",
       "      <td>12.000000</td>\n",
       "      <td>7.500000</td>\n",
       "      <td>7.500000</td>\n",
       "      <td>7.500000</td>\n",
       "      <td>8.000000</td>\n",
       "      <td>10.000000</td>\n",
       "      <td>10.000000</td>\n",
       "      <td>10.000000</td>\n",
       "      <td>10.000000</td>\n",
       "      <td>10.000000</td>\n",
       "      <td>...</td>\n",
       "      <td>7.500000</td>\n",
       "      <td>25.000000</td>\n",
       "      <td>15.000000</td>\n",
       "      <td>25.000000</td>\n",
       "      <td>6.000000</td>\n",
       "      <td>24.000000</td>\n",
       "      <td>15.000000</td>\n",
       "      <td>20.000000</td>\n",
       "      <td>8.000000</td>\n",
       "      <td>1.969694e+07</td>\n",
       "    </tr>\n",
       "  </tbody>\n",
       "</table>\n",
       "<p>8 rows × 38 columns</p>\n",
       "</div>"
      ],
      "text/plain": [
       "               P1          P2          P3          P4          P5          P6  \\\n",
       "count  137.000000  137.000000  137.000000  137.000000  137.000000  137.000000   \n",
       "mean     4.014599    4.408759    4.317518    4.372263    2.007299    3.357664   \n",
       "std      2.910391    1.514900    1.032337    1.016462    1.209620    2.134235   \n",
       "min      1.000000    1.000000    0.000000    3.000000    1.000000    1.000000   \n",
       "25%      2.000000    4.000000    4.000000    4.000000    1.000000    2.000000   \n",
       "50%      3.000000    5.000000    4.000000    4.000000    2.000000    3.000000   \n",
       "75%      4.000000    5.000000    5.000000    5.000000    2.000000    4.000000   \n",
       "max     12.000000    7.500000    7.500000    7.500000    8.000000   10.000000   \n",
       "\n",
       "               P7          P8          P9         P10  ...         P29  \\\n",
       "count  137.000000  137.000000  137.000000  137.000000  ...  137.000000   \n",
       "mean     5.423358    5.153285    5.445255    5.489051  ...    3.135036   \n",
       "std      2.296809    1.858567    1.834793    1.847561  ...    1.680887   \n",
       "min      1.000000    1.000000    4.000000    4.000000  ...    0.000000   \n",
       "25%      5.000000    4.000000    4.000000    5.000000  ...    2.500000   \n",
       "50%      5.000000    5.000000    5.000000    5.000000  ...    3.000000   \n",
       "75%      5.000000    5.000000    5.000000    5.000000  ...    3.000000   \n",
       "max     10.000000   10.000000   10.000000   10.000000  ...    7.500000   \n",
       "\n",
       "              P30         P31         P32         P33         P34         P35  \\\n",
       "count  137.000000  137.000000  137.000000  137.000000  137.000000  137.000000   \n",
       "mean     2.729927    1.941606    2.525547    1.138686    2.489051    2.029197   \n",
       "std      5.536647    3.512093    5.230117    1.698540    5.165093    3.436272   \n",
       "min      0.000000    0.000000    0.000000    0.000000    0.000000    0.000000   \n",
       "25%      0.000000    0.000000    0.000000    0.000000    0.000000    0.000000   \n",
       "50%      0.000000    0.000000    0.000000    0.000000    0.000000    0.000000   \n",
       "75%      4.000000    3.000000    3.000000    2.000000    3.000000    4.000000   \n",
       "max     25.000000   15.000000   25.000000    6.000000   24.000000   15.000000   \n",
       "\n",
       "              P36         P37       revenue  \n",
       "count  137.000000  137.000000  1.370000e+02  \n",
       "mean     2.211679    1.116788  4.453533e+06  \n",
       "std      4.168211    1.790768  2.576072e+06  \n",
       "min      0.000000    0.000000  1.149870e+06  \n",
       "25%      0.000000    0.000000  2.999068e+06  \n",
       "50%      0.000000    0.000000  3.939804e+06  \n",
       "75%      3.000000    2.000000  5.166635e+06  \n",
       "max     20.000000    8.000000  1.969694e+07  \n",
       "\n",
       "[8 rows x 38 columns]"
      ]
     },
     "execution_count": 99,
     "metadata": {},
     "output_type": "execute_result"
    }
   ],
   "source": [
    "train.describe()"
   ]
  },
  {
   "cell_type": "code",
   "execution_count": 100,
   "metadata": {},
   "outputs": [
    {
     "name": "stdout",
     "output_type": "stream",
     "text": [
      "          OpenDate      City   CityGroup Type\n",
      "count          137       137         137  137\n",
      "unique         134        34           2    3\n",
      "top     02-02-2012  İstanbul  Big Cities   FC\n",
      "freq             2        50          78   76\n"
     ]
    }
   ],
   "source": [
    "print(train.describe(include = 'object'))"
   ]
  },
  {
   "cell_type": "code",
   "execution_count": 101,
   "metadata": {},
   "outputs": [
    {
     "name": "stdout",
     "output_type": "stream",
     "text": [
      "(137, 42)\n",
      "(100000, 41)\n"
     ]
    }
   ],
   "source": [
    "print(train.shape)\n",
    "print(test.shape)"
   ]
  },
  {
   "cell_type": "code",
   "execution_count": 102,
   "metadata": {},
   "outputs": [
    {
     "data": {
      "text/plain": [
       "Index(['OpenDate', 'City', 'CityGroup', 'Type', 'P1', 'P2', 'P3', 'P4', 'P5',\n",
       "       'P6', 'P7', 'P8', 'P9', 'P10', 'P11', 'P12', 'P13', 'P14', 'P15', 'P16',\n",
       "       'P17', 'P18', 'P19', 'P20', 'P21', 'P22', 'P23', 'P24', 'P25', 'P26',\n",
       "       'P27', 'P28', 'P29', 'P30', 'P31', 'P32', 'P33', 'P34', 'P35', 'P36',\n",
       "       'P37', 'revenue'],\n",
       "      dtype='object')"
      ]
     },
     "execution_count": 102,
     "metadata": {},
     "output_type": "execute_result"
    }
   ],
   "source": [
    "train.columns"
   ]
  },
  {
   "cell_type": "code",
   "execution_count": 103,
   "metadata": {},
   "outputs": [
    {
     "name": "stdout",
     "output_type": "stream",
     "text": [
      "          OpenDate      City   CityGroup Type\n",
      "count          137       137         137  137\n",
      "unique         134        34           2    3\n",
      "top     02-02-2012  İstanbul  Big Cities   FC\n",
      "freq             2        50          78   76\n",
      "          OpenDate      City CityGroup    Type\n",
      "count       100000    100000    100000  100000\n",
      "unique         310        57         2       4\n",
      "top     07-10-2013  İstanbul     Other      FC\n",
      "freq           645     34087     50728   57019\n"
     ]
    }
   ],
   "source": [
    "print(train.describe(include = 'object'))\n",
    "print(test.describe(include = 'object'))"
   ]
  },
  {
   "cell_type": "code",
   "execution_count": 104,
   "metadata": {},
   "outputs": [],
   "source": [
    "import seaborn as sns\n",
    "import matplotlib.pyplot as plt\n",
    "corr = pd.DataFrame(train.corr())\n",
    "corr.to_csv(\"corr2.csv\",index=False)"
   ]
  },
  {
   "cell_type": "code",
   "execution_count": 105,
   "metadata": {},
   "outputs": [],
   "source": [
    "#train = train.drop(['P25','P4','P19','P24','P20','P14','P15','P26','P27','P37','P3','P5','P33','P18','P16'],axis = 1)"
   ]
  },
  {
   "cell_type": "code",
   "execution_count": 106,
   "metadata": {},
   "outputs": [],
   "source": [
    "#test = test.drop(['P25','P4','P19','P24','P20','P14','P15','P26','P27','P37','P3','P5','P33','P18','P16'],axis = 1)"
   ]
  },
  {
   "cell_type": "code",
   "execution_count": 107,
   "metadata": {},
   "outputs": [],
   "source": [
    "#train.columns"
   ]
  },
  {
   "cell_type": "code",
   "execution_count": 108,
   "metadata": {},
   "outputs": [],
   "source": [
    "train['today'] = date.today()\n",
    "test['today'] = date.today()"
   ]
  },
  {
   "cell_type": "code",
   "execution_count": 109,
   "metadata": {},
   "outputs": [],
   "source": [
    "train['OpenDate'] = pd.to_datetime(train['OpenDate'])\n",
    "train['today'] = pd.to_datetime(train['today'])\n",
    "test['OpenDate'] = pd.to_datetime(test['OpenDate'])\n",
    "test['today'] = pd.to_datetime(test['today'])"
   ]
  },
  {
   "cell_type": "code",
   "execution_count": 110,
   "metadata": {},
   "outputs": [],
   "source": [
    "train['OpenDate'] = train['OpenDate'].apply(lambda x: x.strftime('%Y')) \n",
    "train['today'] = train['today'].apply(lambda x: x.strftime('%Y')) \n",
    "test['OpenDate'] = test['OpenDate'].apply(lambda x: x.strftime('%Y')) \n",
    "test['today'] = test['today'].apply(lambda x: x.strftime('%Y')) "
   ]
  },
  {
   "cell_type": "code",
   "execution_count": 111,
   "metadata": {},
   "outputs": [],
   "source": [
    "train['OpenDate'] = train['OpenDate'].astype('int64')\n",
    "train['today'] = train['today'].astype('int64')\n",
    "train['Age'] = train['today'] - train['OpenDate']"
   ]
  },
  {
   "cell_type": "code",
   "execution_count": 112,
   "metadata": {},
   "outputs": [],
   "source": [
    "test['OpenDate'] = test['OpenDate'].astype('int64')\n",
    "test['today'] = test['today'].astype('int64')\n",
    "test['Age'] = test['today'] - test['OpenDate']"
   ]
  },
  {
   "cell_type": "code",
   "execution_count": 113,
   "metadata": {},
   "outputs": [],
   "source": [
    "train = train.drop(['City','OpenDate','today'],axis = 1)\n",
    "test = test.drop(['City','OpenDate','today'],axis = 1)"
   ]
  },
  {
   "cell_type": "code",
   "execution_count": 114,
   "metadata": {},
   "outputs": [
    {
     "name": "stdout",
     "output_type": "stream",
     "text": [
      "['IL' 'FC' 'DT']\n",
      "['FC' 'IL' 'DT' 'MB']\n"
     ]
    }
   ],
   "source": [
    "print(train['Type'].unique())\n",
    "print(test['Type'].unique())"
   ]
  },
  {
   "cell_type": "code",
   "execution_count": 115,
   "metadata": {},
   "outputs": [
    {
     "data": {
      "text/plain": [
       "array(['others', 'FC'], dtype=object)"
      ]
     },
     "execution_count": 115,
     "metadata": {},
     "output_type": "execute_result"
    }
   ],
   "source": [
    "train['Type'] = train['Type'].replace('IL','others')\n",
    "train['Type'] = train['Type'].replace('DT','others')\n",
    "train['Type'].unique()"
   ]
  },
  {
   "cell_type": "code",
   "execution_count": 116,
   "metadata": {},
   "outputs": [
    {
     "data": {
      "text/plain": [
       "array(['FC', 'others'], dtype=object)"
      ]
     },
     "execution_count": 116,
     "metadata": {},
     "output_type": "execute_result"
    }
   ],
   "source": [
    "test['Type'] = test['Type'].replace(['IL','DT','MB'], 'others')\n",
    "test['Type'].unique()"
   ]
  },
  {
   "cell_type": "code",
   "execution_count": 117,
   "metadata": {},
   "outputs": [
    {
     "data": {
      "text/plain": [
       "count    137.000000\n",
       "mean      11.321168\n",
       "std        4.027359\n",
       "min        6.000000\n",
       "25%        9.000000\n",
       "50%       10.000000\n",
       "75%       13.000000\n",
       "max       24.000000\n",
       "Name: Age, dtype: float64"
      ]
     },
     "execution_count": 117,
     "metadata": {},
     "output_type": "execute_result"
    }
   ],
   "source": [
    "train['Age'].describe()"
   ]
  },
  {
   "cell_type": "markdown",
   "metadata": {},
   "source": [
    "Studing the relation of Revenue variable with other numeric variable "
   ]
  },
  {
   "cell_type": "code",
   "execution_count": 118,
   "metadata": {},
   "outputs": [
    {
     "data": {
      "image/png": "[encoded data removed]",
      "text/plain": [
       "<Figure size 432x288 with 1 Axes>"
      ]
     },
     "metadata": {
      "needs_background": "light"
     },
     "output_type": "display_data"
    },
    {
     "data": {
      "image/png": "[encoded data removed]",
      "text/plain": [
       "<Figure size 432x288 with 1 Axes>"
      ]
     },
     "metadata": {
      "needs_background": "light"
     },
     "output_type": "display_data"
    }
   ],
   "source": [
    "import matplotlib.pyplot as plt\n",
    "from scipy import stats\n",
    "x = train['Age']\n",
    "y = train['revenue']\n",
    "slope, intercept, r, p, std_err = stats.linregress(x, y)\n",
    "\n",
    "def myfunc(x):\n",
    "    return slope * x + intercept\n",
    "\n",
    "mymodel = list(map(myfunc, x))\n",
    "\n",
    "plt.scatter(x, y)\n",
    "plt.plot(x, mymodel)\n",
    "plt.show()\n",
    "plt.scatter(train['Age'], train['revenue'])\n",
    "plt.show()"
   ]
  },
  {
   "cell_type": "code",
   "execution_count": 119,
   "metadata": {},
   "outputs": [
    {
     "data": {
      "text/plain": [
       "CityGroup     object\n",
       "Type          object\n",
       "P1             int64\n",
       "P2           float64\n",
       "P3           float64\n",
       "P4           float64\n",
       "P5             int64\n",
       "P6             int64\n",
       "P7             int64\n",
       "P8             int64\n",
       "P9             int64\n",
       "P10            int64\n",
       "P11            int64\n",
       "P12            int64\n",
       "P13          float64\n",
       "P14            int64\n",
       "P15            int64\n",
       "P16            int64\n",
       "P17            int64\n",
       "P18            int64\n",
       "P19            int64\n",
       "P20            int64\n",
       "P21            int64\n",
       "P22            int64\n",
       "P23            int64\n",
       "P24            int64\n",
       "P25            int64\n",
       "P26          float64\n",
       "P27          float64\n",
       "P28          float64\n",
       "P29          float64\n",
       "P30            int64\n",
       "P31            int64\n",
       "P32            int64\n",
       "P33            int64\n",
       "P34            int64\n",
       "P35            int64\n",
       "P36            int64\n",
       "P37            int64\n",
       "revenue        int64\n",
       "Age            int64\n",
       "dtype: object"
      ]
     },
     "execution_count": 119,
     "metadata": {},
     "output_type": "execute_result"
    }
   ],
   "source": [
    "train.dtypes"
   ]
  },
  {
   "cell_type": "markdown",
   "metadata": {},
   "source": [
    "Splitting categorical and numeric variables"
   ]
  },
  {
   "cell_type": "code",
   "execution_count": 120,
   "metadata": {},
   "outputs": [],
   "source": [
    "cat_attr_train = list(train.select_dtypes(\"object\").columns)\n",
    "num_attr_float_train = list(train.select_dtypes(include=['float64']).columns)\n",
    "num_float_train = list(['P1', 'P3', 'P4', 'P14', 'P21', 'P22', 'P27', 'P29'])\n",
    "num_attr_train = list(train.select_dtypes(include=['int64']).columns)"
   ]
  },
  {
   "cell_type": "code",
   "execution_count": 121,
   "metadata": {},
   "outputs": [
    {
     "data": {
      "text/plain": [
       "['P1', 'P3', 'P4', 'P14', 'P21', 'P22', 'P27', 'P29']"
      ]
     },
     "execution_count": 121,
     "metadata": {},
     "output_type": "execute_result"
    }
   ],
   "source": [
    "num_attr_float_train\n",
    "num_float_train"
   ]
  },
  {
   "cell_type": "code",
   "execution_count": 122,
   "metadata": {},
   "outputs": [],
   "source": [
    "cat_attr_test = list(test.select_dtypes(\"object\").columns)\n",
    "num_attr_float_test = list(test.select_dtypes(include=['float64']).columns)\n",
    "num_float_test = list(['P1', 'P3', 'P4', 'P14', 'P21', 'P22', 'P27', 'P29'])\n",
    "num_attr_test = list(test.select_dtypes(include=['int64']).columns)"
   ]
  },
  {
   "cell_type": "code",
   "execution_count": 123,
   "metadata": {},
   "outputs": [
    {
     "data": {
      "text/plain": [
       "['P2', 'P3', 'P4', 'P13', 'P26', 'P27', 'P28', 'P29']"
      ]
     },
     "execution_count": 123,
     "metadata": {},
     "output_type": "execute_result"
    }
   ],
   "source": [
    "num_attr_float_test"
   ]
  },
  {
   "cell_type": "code",
   "execution_count": 124,
   "metadata": {},
   "outputs": [],
   "source": [
    "for col in cat_attr_train:\n",
    "    train[col] = train[col].astype('category')\n",
    "    test[col] = test[col].astype('category')"
   ]
  },
  {
   "cell_type": "code",
   "execution_count": 125,
   "metadata": {},
   "outputs": [
    {
     "data": {
      "text/plain": [
       "['CityGroup', 'Type']"
      ]
     },
     "execution_count": 125,
     "metadata": {},
     "output_type": "execute_result"
    }
   ],
   "source": [
    "cat_attr_train"
   ]
  },
  {
   "cell_type": "code",
   "execution_count": 126,
   "metadata": {},
   "outputs": [],
   "source": [
    "for col in cat_attr_train:\n",
    "    train[col] = train[col].astype('category')\n",
    "    test[col] = test[col].astype('category')"
   ]
  },
  {
   "cell_type": "code",
   "execution_count": 127,
   "metadata": {},
   "outputs": [
    {
     "data": {
      "text/plain": [
       "['CityGroup', 'Type']"
      ]
     },
     "execution_count": 127,
     "metadata": {},
     "output_type": "execute_result"
    }
   ],
   "source": [
    "cat_attr_test"
   ]
  },
  {
   "cell_type": "code",
   "execution_count": 128,
   "metadata": {},
   "outputs": [
    {
     "data": {
      "text/plain": [
       "CityGroup    0\n",
       "Type         0\n",
       "P1           0\n",
       "P2           0\n",
       "P3           0\n",
       "P4           0\n",
       "P5           0\n",
       "P6           0\n",
       "P7           0\n",
       "P8           0\n",
       "P9           0\n",
       "P10          0\n",
       "P11          0\n",
       "P12          0\n",
       "P13          0\n",
       "P14          0\n",
       "P15          0\n",
       "P16          0\n",
       "P17          0\n",
       "P18          0\n",
       "P19          0\n",
       "P20          0\n",
       "P21          0\n",
       "P22          0\n",
       "P23          0\n",
       "P24          0\n",
       "P25          0\n",
       "P26          0\n",
       "P27          0\n",
       "P28          0\n",
       "P29          0\n",
       "P30          0\n",
       "P31          0\n",
       "P32          0\n",
       "P33          0\n",
       "P34          0\n",
       "P35          0\n",
       "P36          0\n",
       "P37          0\n",
       "revenue      0\n",
       "Age          0\n",
       "dtype: int64"
      ]
     },
     "execution_count": 128,
     "metadata": {},
     "output_type": "execute_result"
    }
   ],
   "source": [
    "train.isnull().sum()"
   ]
  },
  {
   "cell_type": "code",
   "execution_count": 129,
   "metadata": {},
   "outputs": [
    {
     "data": {
      "text/plain": [
       "CityGroup    0\n",
       "Type         0\n",
       "P1           0\n",
       "P2           0\n",
       "P3           0\n",
       "P4           0\n",
       "P5           0\n",
       "P6           0\n",
       "P7           0\n",
       "P8           0\n",
       "P9           0\n",
       "P10          0\n",
       "P11          0\n",
       "P12          0\n",
       "P13          0\n",
       "P14          0\n",
       "P15          0\n",
       "P16          0\n",
       "P17          0\n",
       "P18          0\n",
       "P19          0\n",
       "P20          0\n",
       "P21          0\n",
       "P22          0\n",
       "P23          0\n",
       "P24          0\n",
       "P25          0\n",
       "P26          0\n",
       "P27          0\n",
       "P28          0\n",
       "P29          0\n",
       "P30          0\n",
       "P31          0\n",
       "P32          0\n",
       "P33          0\n",
       "P34          0\n",
       "P35          0\n",
       "P36          0\n",
       "P37          0\n",
       "Age          0\n",
       "dtype: int64"
      ]
     },
     "execution_count": 129,
     "metadata": {},
     "output_type": "execute_result"
    }
   ],
   "source": [
    "test.isnull().sum()"
   ]
  },
  {
   "cell_type": "markdown",
   "metadata": {},
   "source": [
    "Standardising Numeric Variables & Dummification of categorical Variables  "
   ]
  },
  {
   "cell_type": "code",
   "execution_count": 130,
   "metadata": {},
   "outputs": [],
   "source": [
    "from sklearn.preprocessing import StandardScaler\n",
    "from sklearn.preprocessing import OneHotEncoder\n",
    "scaler = StandardScaler()\n",
    "train_num = pd.DataFrame(scaler.fit_transform(train[num_attr_train]),columns = num_attr_train)\n",
    "train_num_float = pd.DataFrame(scaler.fit_transform(train[num_attr_float_train]),columns = num_attr_float_train)\n",
    "test_num = pd.DataFrame(scaler.fit_transform(test[num_attr_test]),columns = num_attr_test)\n",
    "test_float = pd.DataFrame(scaler.fit_transform(test[num_float_test]),columns = num_float_test)"
   ]
  },
  {
   "cell_type": "code",
   "execution_count": 131,
   "metadata": {},
   "outputs": [
    {
     "data": {
      "text/plain": [
       "['CityGroup', 'Type']"
      ]
     },
     "execution_count": 131,
     "metadata": {},
     "output_type": "execute_result"
    }
   ],
   "source": [
    "cat_attr_train"
   ]
  },
  {
   "cell_type": "code",
   "execution_count": 132,
   "metadata": {},
   "outputs": [
    {
     "data": {
      "text/plain": [
       "['CityGroup', 'Type']"
      ]
     },
     "execution_count": 132,
     "metadata": {},
     "output_type": "execute_result"
    }
   ],
   "source": [
    "cat_attr_test"
   ]
  },
  {
   "cell_type": "code",
   "execution_count": 133,
   "metadata": {},
   "outputs": [],
   "source": [
    "#ohe = OneHotEncoder() \n",
    "#train_cat = pd.get_dummies(train[cat_attr_train], columns=cat_attr_train, drop_first=True)\n",
    "#test_cat = pd.get_dummies(test[cat_attr_test], columns=cat_attr_test, drop_first=True)"
   ]
  },
  {
   "cell_type": "code",
   "execution_count": 134,
   "metadata": {},
   "outputs": [
    {
     "data": {
      "text/plain": [
       "(100000, 40)"
      ]
     },
     "execution_count": 134,
     "metadata": {},
     "output_type": "execute_result"
    }
   ],
   "source": [
    "test.shape"
   ]
  },
  {
   "cell_type": "code",
   "execution_count": 135,
   "metadata": {},
   "outputs": [
    {
     "data": {
      "text/plain": [
       "(137, 41)"
      ]
     },
     "execution_count": 135,
     "metadata": {},
     "output_type": "execute_result"
    }
   ],
   "source": [
    "train.shape"
   ]
  },
  {
   "cell_type": "code",
   "execution_count": 136,
   "metadata": {},
   "outputs": [
    {
     "data": {
      "text/html": [
       "<div>\n",
       "<style scoped>\n",
       "    .dataframe tbody tr th:only-of-type {\n",
       "        vertical-align: middle;\n",
       "    }\n",
       "\n",
       "    .dataframe tbody tr th {\n",
       "        vertical-align: top;\n",
       "    }\n",
       "\n",
       "    .dataframe thead th {\n",
       "        text-align: right;\n",
       "    }\n",
       "</style>\n",
       "<table border=\"1\" class=\"dataframe\">\n",
       "  <thead>\n",
       "    <tr style=\"text-align: right;\">\n",
       "      <th></th>\n",
       "      <th>CityGroup</th>\n",
       "      <th>Type</th>\n",
       "      <th>P1</th>\n",
       "      <th>P2</th>\n",
       "      <th>P3</th>\n",
       "      <th>P4</th>\n",
       "      <th>P5</th>\n",
       "      <th>P6</th>\n",
       "      <th>P7</th>\n",
       "      <th>P8</th>\n",
       "      <th>...</th>\n",
       "      <th>P30</th>\n",
       "      <th>P31</th>\n",
       "      <th>P32</th>\n",
       "      <th>P33</th>\n",
       "      <th>P34</th>\n",
       "      <th>P35</th>\n",
       "      <th>P36</th>\n",
       "      <th>P37</th>\n",
       "      <th>revenue</th>\n",
       "      <th>Age</th>\n",
       "    </tr>\n",
       "  </thead>\n",
       "  <tbody>\n",
       "    <tr>\n",
       "      <th>0</th>\n",
       "      <td>Big Cities</td>\n",
       "      <td>others</td>\n",
       "      <td>4</td>\n",
       "      <td>5.0</td>\n",
       "      <td>4.0</td>\n",
       "      <td>4.0</td>\n",
       "      <td>2</td>\n",
       "      <td>2</td>\n",
       "      <td>5</td>\n",
       "      <td>4</td>\n",
       "      <td>...</td>\n",
       "      <td>5</td>\n",
       "      <td>3</td>\n",
       "      <td>4</td>\n",
       "      <td>5</td>\n",
       "      <td>5</td>\n",
       "      <td>4</td>\n",
       "      <td>3</td>\n",
       "      <td>4</td>\n",
       "      <td>5653753</td>\n",
       "      <td>21</td>\n",
       "    </tr>\n",
       "    <tr>\n",
       "      <th>1</th>\n",
       "      <td>Big Cities</td>\n",
       "      <td>FC</td>\n",
       "      <td>4</td>\n",
       "      <td>5.0</td>\n",
       "      <td>4.0</td>\n",
       "      <td>4.0</td>\n",
       "      <td>1</td>\n",
       "      <td>2</td>\n",
       "      <td>5</td>\n",
       "      <td>5</td>\n",
       "      <td>...</td>\n",
       "      <td>0</td>\n",
       "      <td>0</td>\n",
       "      <td>0</td>\n",
       "      <td>0</td>\n",
       "      <td>0</td>\n",
       "      <td>0</td>\n",
       "      <td>0</td>\n",
       "      <td>0</td>\n",
       "      <td>6923131</td>\n",
       "      <td>12</td>\n",
       "    </tr>\n",
       "  </tbody>\n",
       "</table>\n",
       "<p>2 rows × 41 columns</p>\n",
       "</div>"
      ],
      "text/plain": [
       "    CityGroup    Type  P1   P2   P3   P4  P5  P6  P7  P8  ...  P30  P31  P32  \\\n",
       "0  Big Cities  others   4  5.0  4.0  4.0   2   2   5   4  ...    5    3    4   \n",
       "1  Big Cities      FC   4  5.0  4.0  4.0   1   2   5   5  ...    0    0    0   \n",
       "\n",
       "   P33  P34  P35  P36  P37  revenue  Age  \n",
       "0    5    5    4    3    4  5653753   21  \n",
       "1    0    0    0    0    0  6923131   12  \n",
       "\n",
       "[2 rows x 41 columns]"
      ]
     },
     "execution_count": 136,
     "metadata": {},
     "output_type": "execute_result"
    }
   ],
   "source": [
    "train.head(2)"
   ]
  },
  {
   "cell_type": "code",
   "execution_count": 137,
   "metadata": {},
   "outputs": [],
   "source": [
    "train_1 = pd.concat([train_num,train_num_float],axis = 1)\n",
    "test = pd.concat([test_num,test_float],axis = 1)"
   ]
  },
  {
   "cell_type": "code",
   "execution_count": 138,
   "metadata": {},
   "outputs": [],
   "source": [
    "from sklearn.model_selection import train_test_split\n",
    "y = train['revenue']\n",
    "x= train_1.drop(['revenue'], axis=1)\n",
    "X_train,X_test,y_train,y_test = train_test_split(x, y, test_size=0.20,random_state=123)"
   ]
  },
  {
   "cell_type": "code",
   "execution_count": 139,
   "metadata": {},
   "outputs": [
    {
     "data": {
      "text/html": [
       "<div>\n",
       "<style scoped>\n",
       "    .dataframe tbody tr th:only-of-type {\n",
       "        vertical-align: middle;\n",
       "    }\n",
       "\n",
       "    .dataframe tbody tr th {\n",
       "        vertical-align: top;\n",
       "    }\n",
       "\n",
       "    .dataframe thead th {\n",
       "        text-align: right;\n",
       "    }\n",
       "</style>\n",
       "<table border=\"1\" class=\"dataframe\">\n",
       "  <thead>\n",
       "    <tr style=\"text-align: right;\">\n",
       "      <th></th>\n",
       "      <th>P1</th>\n",
       "      <th>P5</th>\n",
       "      <th>P6</th>\n",
       "      <th>P7</th>\n",
       "      <th>P8</th>\n",
       "      <th>P9</th>\n",
       "      <th>P10</th>\n",
       "      <th>P11</th>\n",
       "      <th>P12</th>\n",
       "      <th>P14</th>\n",
       "      <th>...</th>\n",
       "      <th>P37</th>\n",
       "      <th>Age</th>\n",
       "      <th>P2</th>\n",
       "      <th>P3</th>\n",
       "      <th>P4</th>\n",
       "      <th>P13</th>\n",
       "      <th>P26</th>\n",
       "      <th>P27</th>\n",
       "      <th>P28</th>\n",
       "      <th>P29</th>\n",
       "    </tr>\n",
       "  </thead>\n",
       "  <tbody>\n",
       "    <tr>\n",
       "      <th>60</th>\n",
       "      <td>2.753825</td>\n",
       "      <td>-0.006056</td>\n",
       "      <td>1.242615</td>\n",
       "      <td>1.999921</td>\n",
       "      <td>1.537293</td>\n",
       "      <td>2.491539</td>\n",
       "      <td>2.450529</td>\n",
       "      <td>1.437785</td>\n",
       "      <td>2.429860</td>\n",
       "      <td>1.685519</td>\n",
       "      <td>...</td>\n",
       "      <td>0.495013</td>\n",
       "      <td>-0.827678</td>\n",
       "      <td>2.048046</td>\n",
       "      <td>1.635760</td>\n",
       "      <td>1.607252</td>\n",
       "      <td>2.343005</td>\n",
       "      <td>1.356093</td>\n",
       "      <td>0.657454</td>\n",
       "      <td>0.772648</td>\n",
       "      <td>2.606351</td>\n",
       "    </tr>\n",
       "    <tr>\n",
       "      <th>33</th>\n",
       "      <td>-0.694749</td>\n",
       "      <td>-0.006056</td>\n",
       "      <td>-0.638471</td>\n",
       "      <td>-0.185001</td>\n",
       "      <td>-0.082777</td>\n",
       "      <td>-0.243564</td>\n",
       "      <td>-0.265672</td>\n",
       "      <td>-1.188569</td>\n",
       "      <td>-0.154696</td>\n",
       "      <td>-0.520686</td>\n",
       "      <td>...</td>\n",
       "      <td>-0.625925</td>\n",
       "      <td>-1.076891</td>\n",
       "      <td>-0.933348</td>\n",
       "      <td>-0.308701</td>\n",
       "      <td>-0.367578</td>\n",
       "      <td>-0.077747</td>\n",
       "      <td>-0.565156</td>\n",
       "      <td>-0.556444</td>\n",
       "      <td>-0.531493</td>\n",
       "      <td>-0.080631</td>\n",
       "    </tr>\n",
       "    <tr>\n",
       "      <th>88</th>\n",
       "      <td>-1.039607</td>\n",
       "      <td>-0.835796</td>\n",
       "      <td>-0.638471</td>\n",
       "      <td>-1.932938</td>\n",
       "      <td>-0.622801</td>\n",
       "      <td>-0.243564</td>\n",
       "      <td>-0.265672</td>\n",
       "      <td>-0.138027</td>\n",
       "      <td>-0.154696</td>\n",
       "      <td>-0.520686</td>\n",
       "      <td>...</td>\n",
       "      <td>-0.625925</td>\n",
       "      <td>-1.076891</td>\n",
       "      <td>-1.595880</td>\n",
       "      <td>0.663530</td>\n",
       "      <td>-0.367578</td>\n",
       "      <td>-0.077747</td>\n",
       "      <td>-0.565156</td>\n",
       "      <td>-0.556444</td>\n",
       "      <td>-0.966207</td>\n",
       "      <td>-0.677738</td>\n",
       "    </tr>\n",
       "    <tr>\n",
       "      <th>118</th>\n",
       "      <td>2.753825</td>\n",
       "      <td>-0.006056</td>\n",
       "      <td>3.123701</td>\n",
       "      <td>1.999921</td>\n",
       "      <td>2.617340</td>\n",
       "      <td>2.491539</td>\n",
       "      <td>2.450529</td>\n",
       "      <td>0.387243</td>\n",
       "      <td>2.429860</td>\n",
       "      <td>0.582417</td>\n",
       "      <td>...</td>\n",
       "      <td>0.495013</td>\n",
       "      <td>-0.080039</td>\n",
       "      <td>2.048046</td>\n",
       "      <td>3.094106</td>\n",
       "      <td>0.126130</td>\n",
       "      <td>2.343005</td>\n",
       "      <td>2.316718</td>\n",
       "      <td>1.871352</td>\n",
       "      <td>2.946216</td>\n",
       "      <td>1.113583</td>\n",
       "    </tr>\n",
       "    <tr>\n",
       "      <th>62</th>\n",
       "      <td>-0.694749</td>\n",
       "      <td>-0.006056</td>\n",
       "      <td>-0.168199</td>\n",
       "      <td>-0.185001</td>\n",
       "      <td>-0.082777</td>\n",
       "      <td>-0.243564</td>\n",
       "      <td>-0.808913</td>\n",
       "      <td>-0.663298</td>\n",
       "      <td>-0.154696</td>\n",
       "      <td>0.950117</td>\n",
       "      <td>...</td>\n",
       "      <td>1.055482</td>\n",
       "      <td>-0.329252</td>\n",
       "      <td>-0.270816</td>\n",
       "      <td>-0.308701</td>\n",
       "      <td>-0.367578</td>\n",
       "      <td>-1.046047</td>\n",
       "      <td>0.587594</td>\n",
       "      <td>-0.070885</td>\n",
       "      <td>-0.531493</td>\n",
       "      <td>-0.080631</td>\n",
       "    </tr>\n",
       "  </tbody>\n",
       "</table>\n",
       "<p>5 rows × 38 columns</p>\n",
       "</div>"
      ],
      "text/plain": [
       "           P1        P5        P6        P7        P8        P9       P10  \\\n",
       "60   2.753825 -0.006056  1.242615  1.999921  1.537293  2.491539  2.450529   \n",
       "33  -0.694749 -0.006056 -0.638471 -0.185001 -0.082777 -0.243564 -0.265672   \n",
       "88  -1.039607 -0.835796 -0.638471 -1.932938 -0.622801 -0.243564 -0.265672   \n",
       "118  2.753825 -0.006056  3.123701  1.999921  2.617340  2.491539  2.450529   \n",
       "62  -0.694749 -0.006056 -0.168199 -0.185001 -0.082777 -0.243564 -0.808913   \n",
       "\n",
       "          P11       P12       P14  ...       P37       Age        P2  \\\n",
       "60   1.437785  2.429860  1.685519  ...  0.495013 -0.827678  2.048046   \n",
       "33  -1.188569 -0.154696 -0.520686  ... -0.625925 -1.076891 -0.933348   \n",
       "88  -0.138027 -0.154696 -0.520686  ... -0.625925 -1.076891 -1.595880   \n",
       "118  0.387243  2.429860  0.582417  ...  0.495013 -0.080039  2.048046   \n",
       "62  -0.663298 -0.154696  0.950117  ...  1.055482 -0.329252 -0.270816   \n",
       "\n",
       "           P3        P4       P13       P26       P27       P28       P29  \n",
       "60   1.635760  1.607252  2.343005  1.356093  0.657454  0.772648  2.606351  \n",
       "33  -0.308701 -0.367578 -0.077747 -0.565156 -0.556444 -0.531493 -0.080631  \n",
       "88   0.663530 -0.367578 -0.077747 -0.565156 -0.556444 -0.966207 -0.677738  \n",
       "118  3.094106  0.126130  2.343005  2.316718  1.871352  2.946216  1.113583  \n",
       "62  -0.308701 -0.367578 -1.046047  0.587594 -0.070885 -0.531493 -0.080631  \n",
       "\n",
       "[5 rows x 38 columns]"
      ]
     },
     "execution_count": 139,
     "metadata": {},
     "output_type": "execute_result"
    }
   ],
   "source": [
    "X_train.head()"
   ]
  },
  {
   "cell_type": "markdown",
   "metadata": {},
   "source": [
    "Model - 1: Linear Regression"
   ]
  },
  {
   "cell_type": "code",
   "execution_count": 140,
   "metadata": {},
   "outputs": [],
   "source": [
    "from sklearn.linear_model import LinearRegression\n",
    "lin_reg = LinearRegression()\n",
    "model = lin_reg.fit(X_train,y_train)\n",
    "train_pred = lin_reg.predict(X_train)\n",
    "val_pred = lin_reg.predict(X_test)\n"
   ]
  },
  {
   "cell_type": "code",
   "execution_count": 141,
   "metadata": {},
   "outputs": [
    {
     "name": "stdout",
     "output_type": "stream",
     "text": [
      "coefficient of determination: 0.3788325539716205\n"
     ]
    },
    {
     "data": {
      "text/plain": [
       "1734392.9303000194"
      ]
     },
     "execution_count": 141,
     "metadata": {},
     "output_type": "execute_result"
    }
   ],
   "source": [
    "r_sq = lin_reg.score(X_train,y_train)\n",
    "print('coefficient of determination:', r_sq)\n",
    "from sklearn.metrics import mean_squared_error\n",
    "np.sqrt(mean_squared_error(y_train, train_pred))"
   ]
  },
  {
   "cell_type": "code",
   "execution_count": 142,
   "metadata": {},
   "outputs": [
    {
     "name": "stdout",
     "output_type": "stream",
     "text": [
      "coefficient of determination: 0.024956143253003212\n"
     ]
    },
    {
     "data": {
      "text/plain": [
       "3560853.856774812"
      ]
     },
     "execution_count": 142,
     "metadata": {},
     "output_type": "execute_result"
    }
   ],
   "source": [
    "r_sq = lin_reg.score(X_test,y_test)\n",
    "print('coefficient of determination:', r_sq)\n",
    "from sklearn.metrics import mean_squared_error\n",
    "np.sqrt(mean_squared_error(y_test, val_pred))"
   ]
  },
  {
   "cell_type": "code",
   "execution_count": 143,
   "metadata": {},
   "outputs": [],
   "source": [
    "test_pred\n",
    "pd.DataFrame(test_pred).to_csv(\"lin_reg.csv\",index=True)"
   ]
  },
  {
   "cell_type": "code",
   "execution_count": 144,
   "metadata": {},
   "outputs": [
    {
     "data": {
      "text/plain": [
       "array([ 1165042.67978701,  -191245.7273301 ,   484509.24095905,\n",
       "         285800.51176401, -2566996.90422243,   802487.63384421,\n",
       "        1251137.1429935 ,  -536702.90815306,   270684.51094585,\n",
       "       -1461111.89988474,   566533.38497551, -2478777.15341544,\n",
       "         732198.34176812,  1934069.55928737,  -410174.17953407,\n",
       "       -1937185.91944834,    88160.50037786,  -172483.15371805,\n",
       "         868283.74146465,  1746832.86394895,  1180325.91502999,\n",
       "        1048466.35077066,  -380963.87604347,  -130051.72775219,\n",
       "         -94245.11882347,  1043488.83082171, -1008199.64160586,\n",
       "         655402.04500857,    10522.61551712,   643451.78428521,\n",
       "         169097.70088223,  -223729.08756036,    32843.93904868,\n",
       "        -824705.23525254, -3935346.32556873,   673462.24241171,\n",
       "        1252403.53994313,   -10750.57194527])"
      ]
     },
     "execution_count": 144,
     "metadata": {},
     "output_type": "execute_result"
    }
   ],
   "source": [
    "lin_reg.coef_"
   ]
  },
  {
   "cell_type": "code",
   "execution_count": 145,
   "metadata": {},
   "outputs": [
    {
     "data": {
      "text/plain": [
       "(109, 38)"
      ]
     },
     "execution_count": 145,
     "metadata": {},
     "output_type": "execute_result"
    }
   ],
   "source": [
    "X_train.shape"
   ]
  },
  {
   "cell_type": "code",
   "execution_count": 146,
   "metadata": {},
   "outputs": [
    {
     "name": "stdout",
     "output_type": "stream",
     "text": [
      "                            OLS Regression Results                            \n",
      "==============================================================================\n",
      "Dep. Variable:                revenue   R-squared:                       0.379\n",
      "Model:                            OLS   Adj. R-squared:                  0.042\n",
      "Method:                 Least Squares   F-statistic:                     1.123\n",
      "Date:                Fri, 01 May 2020   Prob (F-statistic):              0.331\n",
      "Time:                        19:52:10   Log-Likelihood:                -1720.6\n",
      "No. Observations:                 109   AIC:                             3519.\n",
      "Df Residuals:                      70   BIC:                             3624.\n",
      "Df Model:                          38                                         \n",
      "Covariance Type:            nonrobust                                         \n",
      "==============================================================================\n",
      "                 coef    std err          t      P>|t|      [0.025      0.975]\n",
      "------------------------------------------------------------------------------\n",
      "const       4.427e+06   2.23e+05     19.807      0.000    3.98e+06    4.87e+06\n",
      "P1          1.165e+06   1.04e+06      1.120      0.267   -9.09e+05    3.24e+06\n",
      "P5         -1.912e+05   5.16e+05     -0.371      0.712   -1.22e+06    8.37e+05\n",
      "P6          4.845e+05   5.34e+05      0.908      0.367    -5.8e+05    1.55e+06\n",
      "P7          2.858e+05   5.84e+05      0.489      0.626   -8.79e+05    1.45e+06\n",
      "P8         -2.567e+06   1.07e+06     -2.404      0.019    -4.7e+06   -4.38e+05\n",
      "P9          8.025e+05   1.98e+06      0.405      0.687   -3.15e+06    4.76e+06\n",
      "P10         1.251e+06   2.93e+06      0.427      0.671    -4.6e+06     7.1e+06\n",
      "P11        -5.367e+05   6.17e+05     -0.869      0.388   -1.77e+06    6.95e+05\n",
      "P12         2.707e+05   1.35e+06      0.200      0.842   -2.43e+06    2.97e+06\n",
      "P14        -1.461e+06    1.1e+06     -1.324      0.190   -3.66e+06     7.4e+05\n",
      "P15         5.665e+05   1.54e+06      0.369      0.713    -2.5e+06    3.63e+06\n",
      "P16        -2.479e+06   2.34e+06     -1.060      0.293   -7.14e+06    2.18e+06\n",
      "P17         7.322e+05      1e+06      0.729      0.469   -1.27e+06    2.74e+06\n",
      "P18         1.934e+06   1.48e+06      1.308      0.195   -1.01e+06    4.88e+06\n",
      "P19        -4.102e+05   9.16e+05     -0.448      0.656   -2.24e+06    1.42e+06\n",
      "P20        -1.937e+06   7.04e+05     -2.752      0.008   -3.34e+06   -5.33e+05\n",
      "P21         8.816e+04   4.99e+05      0.177      0.860   -9.07e+05    1.08e+06\n",
      "P22        -1.725e+05   3.29e+05     -0.524      0.602   -8.29e+05    4.84e+05\n",
      "P23         8.683e+05   6.21e+05      1.399      0.166    -3.7e+05    2.11e+06\n",
      "P24         1.747e+06   1.26e+06      1.388      0.169   -7.63e+05    4.26e+06\n",
      "P25          1.18e+06   1.42e+06      0.833      0.408   -1.65e+06    4.01e+06\n",
      "P30         1.048e+06   9.72e+05      1.079      0.284   -8.89e+05    2.99e+06\n",
      "P31         -3.81e+05   1.06e+06     -0.359      0.721    -2.5e+06    1.74e+06\n",
      "P32        -1.301e+05   1.43e+06     -0.091      0.928   -2.98e+06    2.72e+06\n",
      "P33        -9.425e+04   9.81e+05     -0.096      0.924   -2.05e+06    1.86e+06\n",
      "P34         1.043e+06   2.27e+06      0.459      0.648   -3.49e+06    5.58e+06\n",
      "P35        -1.008e+06   1.46e+06     -0.690      0.493   -3.92e+06    1.91e+06\n",
      "P36         6.554e+05   3.21e+06      0.204      0.839   -5.75e+06    7.06e+06\n",
      "P37         1.052e+04   8.26e+05      0.013      0.990   -1.64e+06    1.66e+06\n",
      "Age         6.435e+05   3.04e+05      2.114      0.038    3.65e+04    1.25e+06\n",
      "P2          1.691e+05   5.69e+05      0.297      0.767   -9.67e+05     1.3e+06\n",
      "P3         -2.237e+05   4.28e+05     -0.522      0.603   -1.08e+06    6.31e+05\n",
      "P4          3.284e+04   5.49e+05      0.060      0.953   -1.06e+06    1.13e+06\n",
      "P13        -8.247e+05   1.51e+06     -0.545      0.588   -3.84e+06    2.19e+06\n",
      "P26        -3.935e+06   1.77e+06     -2.225      0.029   -7.46e+06   -4.07e+05\n",
      "P27         6.735e+05   5.94e+05      1.135      0.260    -5.1e+05    1.86e+06\n",
      "P28         1.252e+06   7.23e+05      1.731      0.088    -1.9e+05     2.7e+06\n",
      "P29        -1.075e+04   5.67e+05     -0.019      0.985   -1.14e+06    1.12e+06\n",
      "==============================================================================\n",
      "Omnibus:                       49.959   Durbin-Watson:                   1.901\n",
      "Prob(Omnibus):                  0.000   Jarque-Bera (JB):              164.025\n",
      "Skew:                           1.614   Prob(JB):                     2.41e-36\n",
      "Kurtosis:                       8.069   Cond. No.                         102.\n",
      "==============================================================================\n",
      "\n",
      "Warnings:\n",
      "[1] Standard Errors assume that the covariance matrix of the errors is correctly specified.\n"
     ]
    }
   ],
   "source": [
    "import statsmodels.api as sm\n",
    "from scipy import stats\n",
    "X2 = sm.add_constant(X_train)\n",
    "est = sm.OLS(y_train, X2)\n",
    "est2 = est.fit()\n",
    "print(est2.summary())"
   ]
  },
  {
   "cell_type": "markdown",
   "metadata": {},
   "source": [
    "Model - 2: Lasso"
   ]
  },
  {
   "cell_type": "code",
   "execution_count": 147,
   "metadata": {},
   "outputs": [
    {
     "name": "stdout",
     "output_type": "stream",
     "text": [
      "4428239.718179291\n"
     ]
    },
    {
     "name": "stderr",
     "output_type": "stream",
     "text": [
      "C:\\Users\\bharati\\AppData\\Roaming\\Python\\Python37\\site-packages\\sklearn\\linear_model\\_coordinate_descent.py:476: ConvergenceWarning: Objective did not converge. You might want to increase the number of iterations. Duality gap: 163925383729616.03, tolerance: 52785276384.64829\n",
      "  positive)\n"
     ]
    }
   ],
   "source": [
    "from sklearn import linear_model\n",
    "from sklearn.linear_model import Lasso\n",
    "clf = linear_model.Lasso(alpha=0.1)\n",
    "clf.fit(X_train,y_train)\n",
    "Lasso(alpha=0.1)\n",
    "#print(clf.coef_)\n",
    "print(clf.intercept_)"
   ]
  },
  {
   "cell_type": "markdown",
   "metadata": {},
   "source": [
    "Model - 3: Elastic Net"
   ]
  },
  {
   "cell_type": "code",
   "execution_count": 148,
   "metadata": {},
   "outputs": [
    {
     "name": "stdout",
     "output_type": "stream",
     "text": [
      "[  18709.38667088 -124550.91163836  168951.78525782  106319.0147737\n",
      " -181159.51990322  -16243.70332885  -17801.92858091   10654.10780565\n",
      "   -9463.65815149  -64236.15492542  -68078.70530851  -51397.61086593\n",
      "   45654.47000223   46398.43680884  -12426.14357444 -232311.95863152\n",
      "  116820.8256379    -3627.10252203  148655.36239532   51071.21929193\n",
      "   26186.43117328  -63976.2798129   -54495.52194345  -78966.24800742\n",
      "  -12714.08620526 -114915.53864918    2146.58849329  -69019.12026065\n",
      "   44193.41171536  351033.26051638  239942.6513365   -61275.26723395\n",
      "   56871.52342822  -15622.21349025  -67564.03552026  102305.01012526\n",
      "  217735.9241891   -27619.09026971]\n"
     ]
    }
   ],
   "source": [
    "from sklearn.linear_model import ElasticNet\n",
    "\n",
    "ENreg = ElasticNet(alpha=1, l1_ratio=0.5, normalize=False)\n",
    "ENreg.fit(X_train,y_train)\n",
    "print(ENreg.coef_)\n",
    "train_pred_en = ENreg.predict(X_train)\n",
    "val_pred_en = ENreg.predict(X_test)\n",
    "test_pred_en = ENreg.predict(test)"
   ]
  },
  {
   "cell_type": "code",
   "execution_count": 149,
   "metadata": {},
   "outputs": [
    {
     "name": "stdout",
     "output_type": "stream",
     "text": [
      "1979255.9219396512\n",
      "3433869.252233615\n"
     ]
    }
   ],
   "source": [
    "print(np.sqrt(mean_squared_error(y_train, train_pred_en)))\n",
    "print(np.sqrt(mean_squared_error(y_test, val_pred_en)))\n"
   ]
  },
  {
   "cell_type": "code",
   "execution_count": 150,
   "metadata": {},
   "outputs": [],
   "source": [
    "test_pred_en\n",
    "pd.DataFrame(test_pred_en).to_csv(\"rr_en.csv\",index=True)"
   ]
  },
  {
   "cell_type": "markdown",
   "metadata": {},
   "source": [
    "###### Data Engineering - PCA "
   ]
  },
  {
   "cell_type": "code",
   "execution_count": 151,
   "metadata": {},
   "outputs": [
    {
     "name": "stdout",
     "output_type": "stream",
     "text": [
      "           0         1         2         3         4         5         6  \\\n",
      "0  11.263530  0.691185 -1.119652  0.026884 -1.129029 -0.553420 -2.201815   \n",
      "1  -3.108447  0.020232 -1.165218 -0.099659 -0.245037 -0.688334  0.227414   \n",
      "\n",
      "          7  \n",
      "0 -1.285372  \n",
      "1  0.403406  \n",
      "          0         1         2         3         4         5         6  \\\n",
      "0  2.349084 -3.681716  3.228123  0.125229  1.120599  1.866335  0.890979   \n",
      "1 -1.526645 -3.278221 -2.118837 -0.055386 -1.409641  0.107523  1.691089   \n",
      "\n",
      "          7  \n",
      "0  0.362976  \n",
      "1 -0.441195  \n",
      "          0         1         2         3         4         5         6  \\\n",
      "0 -2.637869 -0.099881  0.219465  1.015845 -0.845161  0.868017 -0.660505   \n",
      "1 -2.809493 -0.191738  0.245897  0.349648 -0.125663 -0.338675 -0.268553   \n",
      "\n",
      "          7  \n",
      "0  0.622366  \n",
      "1  0.060808  \n",
      "(109, 8)\n",
      "(28, 8)\n",
      "(100000, 8)\n"
     ]
    }
   ],
   "source": [
    "#pca\n",
    "from sklearn.decomposition import PCA\n",
    "pca = PCA(.90)\n",
    "pca.fit(X_train)\n",
    "#print(pca.components_)\n",
    "#print(pca.explained_variance_ratio_)\n",
    "#print(pca.singular_values_)\n",
    "pca_samples = pca.transform(X_train)\n",
    "X_train = pd.DataFrame(pca_samples)\n",
    "pca_samples = pca.transform(X_test)\n",
    "X_test = pd.DataFrame(pca_samples)\n",
    "pca_samples = pca.transform(test)\n",
    "test = pd.DataFrame(pca_samples)\n",
    "print(X_train.head(2))\n",
    "print(X_test.head(2))\n",
    "print(test.head(2))\n",
    "\n",
    "print(X_train.shape)\n",
    "print(X_test.shape)\n",
    "print(test.shape)"
   ]
  },
  {
   "cell_type": "markdown",
   "metadata": {},
   "source": [
    "###### Model - 4: Lin Regression with PCA "
   ]
  },
  {
   "cell_type": "code",
   "execution_count": 152,
   "metadata": {},
   "outputs": [],
   "source": [
    "from sklearn.linear_model import LinearRegression\n",
    "lin_reg_pca = LinearRegression()\n",
    "model = lin_reg_pca.fit(X_train,y_train)\n",
    "train_pred_pca = lin_reg_pca.predict(X_train)\n",
    "val_pred_pca = lin_reg_pca.predict(X_test)\n",
    "test_pred_pca = lin_reg_pca.predict(test)"
   ]
  },
  {
   "cell_type": "code",
   "execution_count": 153,
   "metadata": {},
   "outputs": [
    {
     "data": {
      "text/plain": [
       "1734392.9303000194"
      ]
     },
     "execution_count": 153,
     "metadata": {},
     "output_type": "execute_result"
    }
   ],
   "source": [
    "from sklearn.metrics import mean_squared_error\n",
    "np.sqrt(mean_squared_error(y_train, train_pred))\n",
    "#1790536"
   ]
  },
  {
   "cell_type": "code",
   "execution_count": 154,
   "metadata": {},
   "outputs": [
    {
     "data": {
      "text/plain": [
       "3560853.856774812"
      ]
     },
     "execution_count": 154,
     "metadata": {},
     "output_type": "execute_result"
    }
   ],
   "source": [
    "np.sqrt(mean_squared_error(y_test, val_pred))"
   ]
  },
  {
   "cell_type": "code",
   "execution_count": 155,
   "metadata": {},
   "outputs": [],
   "source": [
    "test_pred\n",
    "pd.DataFrame(test_pred).to_csv(\"lin_pca.csv\",index=True)"
   ]
  },
  {
   "cell_type": "markdown",
   "metadata": {},
   "source": [
    "###### Model - 5 : Gradient Boosting "
   ]
  },
  {
   "cell_type": "code",
   "execution_count": 156,
   "metadata": {},
   "outputs": [
    {
     "data": {
      "text/plain": [
       "GradientBoostingRegressor(alpha=0.9, ccp_alpha=0.0, criterion='friedman_mse',\n",
       "                          init=None, learning_rate=0.01, loss='ls', max_depth=4,\n",
       "                          max_features=None, max_leaf_nodes=None,\n",
       "                          min_impurity_decrease=0.0, min_impurity_split=None,\n",
       "                          min_samples_leaf=1, min_samples_split=2,\n",
       "                          min_weight_fraction_leaf=0.0, n_estimators=500,\n",
       "                          n_iter_no_change=None, presort='deprecated',\n",
       "                          random_state=None, subsample=1.0, tol=0.0001,\n",
       "                          validation_fraction=0.1, verbose=0, warm_start=False)"
      ]
     },
     "execution_count": 156,
     "metadata": {},
     "output_type": "execute_result"
    }
   ],
   "source": [
    "from sklearn import ensemble\n",
    "params = {'n_estimators': 500, 'max_depth': 4, 'min_samples_split': 2,\n",
    "          'learning_rate': 0.01, 'loss': 'ls'}\n",
    "gb= ensemble.GradientBoostingRegressor(**params)\n",
    "gb.fit(X_train, y_train)"
   ]
  },
  {
   "cell_type": "code",
   "execution_count": 157,
   "metadata": {},
   "outputs": [],
   "source": [
    "train_pred_gb = gb.predict(X_train)\n",
    "val_pred_gb = gb.predict(X_test)\n",
    "test_pred_gb = gb.predict(test)"
   ]
  },
  {
   "cell_type": "code",
   "execution_count": 158,
   "metadata": {},
   "outputs": [
    {
     "data": {
      "text/plain": [
       "395417.07790390303"
      ]
     },
     "execution_count": 158,
     "metadata": {},
     "output_type": "execute_result"
    }
   ],
   "source": [
    "np.sqrt(mean_squared_error(y_train, train_pred_gb))"
   ]
  },
  {
   "cell_type": "code",
   "execution_count": 159,
   "metadata": {},
   "outputs": [
    {
     "data": {
      "text/plain": [
       "3219934.4649915695"
      ]
     },
     "execution_count": 159,
     "metadata": {},
     "output_type": "execute_result"
    }
   ],
   "source": [
    "np.sqrt(mean_squared_error(y_test, val_pred_gb))"
   ]
  },
  {
   "cell_type": "code",
   "execution_count": 160,
   "metadata": {},
   "outputs": [],
   "source": [
    "test_pred\n",
    "pd.DataFrame(test_pred).to_csv(\"gradient_boosting.csv\",index=True)"
   ]
  },
  {
   "cell_type": "code",
   "execution_count": 161,
   "metadata": {},
   "outputs": [
    {
     "data": {
      "text/plain": [
       "(109,)"
      ]
     },
     "execution_count": 161,
     "metadata": {},
     "output_type": "execute_result"
    }
   ],
   "source": [
    "y_train.shape"
   ]
  },
  {
   "cell_type": "markdown",
   "metadata": {},
   "source": [
    "###### Model - 6: XG Boost with grid search "
   ]
  },
  {
   "cell_type": "code",
   "execution_count": 162,
   "metadata": {},
   "outputs": [
    {
     "data": {
      "text/plain": [
       "Lasso(alpha=0.1, copy_X=True, fit_intercept=True, max_iter=1000,\n",
       "      normalize=False, positive=False, precompute=False, random_state=None,\n",
       "      selection='cyclic', tol=0.0001, warm_start=False)"
      ]
     },
     "execution_count": 162,
     "metadata": {},
     "output_type": "execute_result"
    }
   ],
   "source": [
    "from sklearn.model_selection import GridSearchCV\n",
    "#xgb1 = XGBRegressor()\n",
    "\n",
    "parameters = {\n",
    "    \"learning_rate\": [0.01, 0.025, 0.05, 0.075, 0.1, 0.15, 0.2],\n",
    "    \"loss\":['ls'],\n",
    "    \"min_samples_split\": np.linspace(0.1, 0.5, 12),\n",
    "    \"min_samples_leaf\": np.linspace(0.1, 0.5, 12),\n",
    "    \"max_depth\":[3,5,8],\n",
    "    \"max_features\":[\"log2\",\"sqrt\",'auto'],\n",
    "    \"criterion\": [\"friedman_mse\"],\n",
    "    \"subsample\":[0.5, 0.618, 0.8, 0.85, 0.9, 0.95, 1.0],\n",
    "    \"n_estimators\":[100]\n",
    "    }\n",
    "clf.fit(X_train,y_train)"
   ]
  },
  {
   "cell_type": "code",
   "execution_count": 163,
   "metadata": {},
   "outputs": [
    {
     "data": {
      "text/plain": [
       "{'criterion': 'friedman_mse',\n",
       " 'learning_rate': 0.01,\n",
       " 'max_depth': 3,\n",
       " 'max_features': 'log2',\n",
       " 'min_samples_leaf': 0.1,\n",
       " 'min_samples_split': 0.1,\n",
       " 'n_estimators': 100,\n",
       " 'subsample': 0.5}"
      ]
     },
     "execution_count": 163,
     "metadata": {},
     "output_type": "execute_result"
    }
   ],
   "source": [
    "best_param = {'criterion': 'friedman_mse',\n",
    " 'learning_rate': 0.01,\n",
    " 'max_depth': 3,\n",
    " 'max_features': 'log2',\n",
    " 'min_samples_leaf': 0.1,\n",
    " 'min_samples_split': 0.1,\n",
    " 'n_estimators': 100,\n",
    " 'subsample': 0.5}\n",
    "best_param"
   ]
  },
  {
   "cell_type": "code",
   "execution_count": 164,
   "metadata": {},
   "outputs": [
    {
     "name": "stdout",
     "output_type": "stream",
     "text": [
      "1938058.1442880386\n",
      "3510312.982811607\n"
     ]
    }
   ],
   "source": [
    "#best_param = clf.best_params_\n",
    "gb_best= ensemble.GradientBoostingRegressor(**best_param)\n",
    "gb_best.fit(X_train, y_train)\n",
    "train_pred_gb_best = gb_best.predict(X_train)\n",
    "val_pred_gb_best = gb_best.predict(X_test)\n",
    "test_pred_best = gb_best.predict(test)\n",
    "print(np.sqrt(mean_squared_error(y_train, train_pred_gb_best)))\n",
    "\n",
    "print(np.sqrt(mean_squared_error(y_test, val_pred_gb_best)))"
   ]
  },
  {
   "cell_type": "code",
   "execution_count": 165,
   "metadata": {},
   "outputs": [],
   "source": [
    "pd.DataFrame(test_pred_best).to_csv(\"gradient_boosting_best.csv\",index=True)"
   ]
  },
  {
   "cell_type": "markdown",
   "metadata": {},
   "source": [
    "###### Model - 7: Random Forest Reg"
   ]
  },
  {
   "cell_type": "code",
   "execution_count": 166,
   "metadata": {},
   "outputs": [
    {
     "name": "stdout",
     "output_type": "stream",
     "text": [
      "1714782.8713847722\n",
      "3502726.187233384\n"
     ]
    }
   ],
   "source": [
    "# random forest\n",
    "from sklearn.ensemble import RandomForestRegressor\n",
    "rf = RandomForestRegressor(max_depth=2, random_state=0)\n",
    "rf.fit(X_train, y_train)\n",
    "train_pred_rf = rf.predict(X_train)\n",
    "val_pred_rf = rf.predict(X_test)\n",
    "test_pred_rf = rf.predict(test)\n",
    "print(np.sqrt(mean_squared_error(y_train, train_pred_rf)))\n",
    "print(np.sqrt(mean_squared_error(y_test, val_pred_rf)))"
   ]
  },
  {
   "cell_type": "code",
   "execution_count": 167,
   "metadata": {},
   "outputs": [
    {
     "name": "stdout",
     "output_type": "stream",
     "text": [
      "Fitting 5 folds for each of 36 candidates, totalling 180 fits\n"
     ]
    },
    {
     "name": "stderr",
     "output_type": "stream",
     "text": [
      "[Parallel(n_jobs=-1)]: Using backend LokyBackend with 12 concurrent workers.\n",
      "[Parallel(n_jobs=-1)]: Done  26 tasks      | elapsed:    4.1s\n",
      "[Parallel(n_jobs=-1)]: Done 180 out of 180 | elapsed:   18.6s finished\n"
     ]
    }
   ],
   "source": [
    "tuned_parameters = {'n_estimators': [500, 700, 1000], 'max_depth': [None, 1, 2, 3], 'min_samples_split': [1, 2, 3]}\n",
    "clf = GridSearchCV(rf, tuned_parameters, cv=5, n_jobs=-1, verbose=1)\n",
    "clf.fit(X_train,y_train)\n",
    "best = clf.best_params_"
   ]
  },
  {
   "cell_type": "code",
   "execution_count": 168,
   "metadata": {},
   "outputs": [
    {
     "name": "stdout",
     "output_type": "stream",
     "text": [
      "1772123.639569233\n",
      "3518814.2658846104\n"
     ]
    }
   ],
   "source": [
    "rf_best = RandomForestRegressor(**best)\n",
    "rf_best.fit(X_train, y_train)\n",
    "train_pred_rf_best = rf_best.predict(X_train)\n",
    "val_pred_rf_best = rf_best.predict(X_test)\n",
    "test_pred_rf_best = rf_best.predict(test)\n",
    "print(np.sqrt(mean_squared_error(y_train, train_pred_rf_best)))\n",
    "print(np.sqrt(mean_squared_error(y_test, val_pred_rf_best)))"
   ]
  },
  {
   "cell_type": "code",
   "execution_count": 169,
   "metadata": {},
   "outputs": [],
   "source": [
    "pd.DataFrame(test_pred_rf_best).to_csv(\"random_forest_best.csv\",index=True)"
   ]
  },
  {
   "cell_type": "markdown",
   "metadata": {},
   "source": [
    "###### Model - 8 : Stacking "
   ]
  },
  {
   "cell_type": "code",
   "execution_count": 1,
   "metadata": {},
   "outputs": [],
   "source": [
    "# stacking\n",
    "#stc = LinearRegression()\n",
    "#from sklearn.ensemble import StackingRegressor\n",
    "#stack_train = pd.DataFrame([train_pred_en,train_pred_pca,train_pred_gb,train_pred_rf])\n",
    "#stack_val = pd.DataFrame([val_pred_en,val_pred_pca,val_pred_gb,val_pred_rf])\n",
    "#stack_train = stack_train.T\n",
    "#stack_test = stack_test.T\n",
    "#stack_train.columns = ['train_pred_en','train_pred_pca','train_pred_gb','train_pred_rf']\n",
    "#stack_val.columns = ['val_pred_en','val_pred_pca','val_pred_gb','val_pred_rf']\n",
    "#final_lr = LinearRegression()\n",
    "\n",
    "#final_lr.fit(stack_train,y_train)\n",
    "\n",
    "#stacked_pred_train = final_lr.predict(stack_train)\n",
    "#stacked_pred_val = final_lr.predict(stack_test)\n",
    "#stacked_pred_test = final_lr.predict(test)\n",
    "#print(np.sqrt(mean_squared_error(y_train, stacked_pred_train)))\n",
    "#print(np.sqrt(mean_squared_error(y_test, stacked_pred_val)))"
   ]
  },
  {
   "cell_type": "markdown",
   "metadata": {},
   "source": [
    "Kaggle Dataset\n",
    "Kaggle Dataset: Resturant Revenue Prediction\n",
    "Tab Food Investment(TFI) is a quick service restaurants across the globe with some of \n",
    "the world's most well-known brands such as Burger King, Sbarro, Popeyes, \n",
    "Usta Donerci, and Arby’s. With over 1200 outlets, they currently employ over \n",
    "20,000 people in Europe and Asia and make significant daily investments \n",
    "in developing new restaurant sites.\n",
    "\n",
    "With investments in opening new outlets, the objective of the current exercise is to \n",
    "find a mathematical model to increase the effectiveness of investments \n",
    "in new restaurant sites would allow TFI to invest more in other important \n",
    "business areas, like sustainability, innovation, and training for new \n",
    "employees. Using demographic, real estate, and commercial data, this \n",
    "competition challenges you to predict the annual restaurant sales of \n",
    "100,000 regional locations.\n",
    "\n",
    "Data description: \n",
    "TFI has provided a dataset with 137 restaurants in the training set, \n",
    "and a test set of 100000 restaurants. The data columns include the \n",
    "open date, location, city type, and three categories of obfuscated \n",
    "data: Demographic data, Real estate data, and Commercial data. \n",
    "The revenue column indicates a (transformed) revenue of the restaurant \n",
    "in a given year and is the target of predictive analysis. \n",
    "\n",
    "Data Fields: \n",
    "\n",
    "Id : Restaurant id. \n",
    "Open Date : opening date for a restaurant\n",
    "City : City that the restaurant is in. Note that there are unicode in \n",
    "the names. \n",
    "City Group: Type of the city. Big cities, or Other. \n",
    "Type: Type of the restaurant. FC: Food Court, IL: Inline, DT: Drive Thru, \n",
    "MB: Mobile\n",
    "P1, P2 - P37: There are three categories of these obfuscated data. \n",
    "Demographic data are gathered from third party providers with GIS systems. \n",
    "These include population in any given area, age and gender distribution, \n",
    "development scales. Real estate data mainly relate to the m2 of the location, \n",
    "front facade of the location, car park availability. Commercial data mainly \n",
    "include the existence of points of interest including schools, banks, other \n",
    "QSR operators.\n",
    "Revenue: The revenue column indicates a (transformed) revenue of the \n",
    "restaurant in a given year and is the target of predictive analysis. \n",
    "Please note that the values are transformed so they don't mean real dollar \n",
    "values. \n",
    "\n",
    "Experiments conducted:\n",
    "\n",
    "Steps in Data Processing: \n",
    "\n",
    "1. Type Column: Converted categories into two (instead of four) types \n",
    "    (Food Court and Others)\n",
    "2. Calculated Age of current resturants (from OpenDate Column)\n",
    "3. Data Standardisation for numerical columns using StandardScaler\n",
    "4. Dummified the categorical variables\n",
    "5. Data was split into 80:20 for training and validation \n",
    "6. PCA for all variables between P1, P2-P37\n",
    "\n",
    "Models Applied: \n",
    "Linear Regression(with and without PCA), \n",
    "Elastic Net, \n",
    "Gradient Boosting,\n",
    "XGBoost with Grid SearchCV, \n",
    "Random Forest\n",
    "\n",
    "Error Metrics for evaluation - RMSE \n",
    "\n",
    "\n",
    "Model Results: \n",
    "\n",
    "Linear Models performed better compared to Ensemble Techniques. Linear Reg \n",
    "with PCA outperformed the rest. 843 ranking on the Pvt Leaderscoreboard\n"
   ]
  }
 ],
 "metadata": {
  "kernelspec": {
   "display_name": "Python 3",
   "language": "python",
   "name": "python3"
  },
  "language_info": {
   "codemirror_mode": {
    "name": "ipython",
    "version": 3
   },
   "file_extension": ".py",
   "mimetype": "text/x-python",
   "name": "python",
   "nbconvert_exporter": "python",
   "pygments_lexer": "ipython3",
   "version": "3.7.3"
  }
 },
 "nbformat": 4,
 "nbformat_minor": 2
}
